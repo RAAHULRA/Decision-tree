{
  "nbformat": 4,
  "nbformat_minor": 0,
  "metadata": {
    "colab": {
      "provenance": [],
      "collapsed_sections": []
    },
    "kernelspec": {
      "name": "python3",
      "display_name": "Python 3"
    },
    "language_info": {
      "name": "python"
    }
  },
  "cells": [
    {
      "cell_type": "code",
      "execution_count": null,
      "metadata": {
        "colab": {
          "base_uri": "https://localhost:8080/"
        },
        "id": "44AHefsuuHvJ",
        "outputId": "9a860b24-889a-42d8-ce18-c867ae717c1f"
      },
      "outputs": [
        {
          "output_type": "stream",
          "name": "stdout",
          "text": [
            "    s_no  continent                      river  length_km length_miles  \\\n",
            "0      1           1                     Amazon     6,400        3,976   \n",
            "1      2           2              Congo (Zaire)     4,370        2,716   \n",
            "2      3           3  Ganges-Brahmaputra/Meghna     2,704        1,680   \n",
            "3      4           1                    Orinoco     2,250        1,398   \n",
            "4      5           1             GuainÃ­a/Negro     2,230        1,390   \n",
            "5      6           1                    Madeira     1,450          900   \n",
            "6      7           3                    Yangtze     6,300        3,915   \n",
            "7      8           1           RÃ­o de la Plata       290          180   \n",
            "8      9           3                Brahmaputra     2,937        1,823   \n",
            "9     10           3                    Yenisei     3,438        2,136   \n",
            "10    11           1                    ParanÃ¡     4,880        3,050   \n",
            "11    12           3             Ganga (Ganges)     2,600        1,565   \n",
            "12    13           4                Mississippi     3,766        2,340   \n",
            "13    14           1         JapurÃ¡ (CaquetÃ¡)     2,036        1,265   \n",
            "14    15           3                       Lena     4,294        2,668   \n",
            "15    16           4             Saint Lawrence     3,058        1,900   \n",
            "16    17           1                  MaraÃ±Ã³n     1,737        1,079   \n",
            "17    18           3                     Mekong     4,023        2,500   \n",
            "18    19           3     Irrawaddy (Ayeyarwady)     2,210        1,370   \n",
            "19    20           1                   TapajÃ³s       840          520   \n",
            "20    21           1                    Ucayali     2,670        1,659   \n",
            "21    22           3                         Ob     3,697        2,299   \n",
            "22    23           1                  Tocantins     2,699        1,677   \n",
            "23    24           3                       Amur     4,352        2,714   \n",
            "24    25           2                Kasai (Kwa)     2,272        1,405   \n",
            "\n",
            "   drainage_area average_discharge           outflow   \n",
            "0      61,12,000           2,09,000    Atlantic Ocean  \n",
            "1      40,14,500             41,200    Atlantic Ocean  \n",
            "2      17,31,334             38,129      Indian Ocean  \n",
            "3       9,89,000             37,740    Atlantic Ocean  \n",
            "4       6,91,000             35,943      Amazon River  \n",
            "5      13,76,000             31,200      Amazon River  \n",
            "6      18,08,500             30,146     Pacific Ocean  \n",
            "7      31,82,064             27,225    Atlantic Ocean  \n",
            "8       6,51,334             19,824             Padma  \n",
            "9      25,80,000             19,800      Arctic Ocean  \n",
            "10     25,82,672             19,706  RÃ­o de la Plata  \n",
            "11     11,25,000             18,691       Padma River  \n",
            "12     32,48,000             18,434    Atlantic Ocean  \n",
            "13      2,67,730             18,122      Amazon River  \n",
            "14     24,90,000             17,067      Arctic Ocean  \n",
            "15     13,44,200             16,800    Atlantic Ocean  \n",
            "16      3,58,000             16,708      Amazon River  \n",
            "17      8,11,000             16,000     Pacific Ocean  \n",
            "18      4,11,000             15,112      Indian Ocean  \n",
            "19      4,92,481             13,540      Amazon River  \n",
            "20      3,51,549             13,385      Amazon River  \n",
            "21     29,90,000             12,692      Arctic Ocean  \n",
            "22      7,64,183             11,796             ParÃ¡  \n",
            "23     18,55,000             11,330     Pacific Ocean  \n",
            "24      8,81,890             11,318       Congo River  \n"
          ]
        }
      ],
      "source": [
        "import pandas as pd\n",
        "data_set=pd.read_csv(\"rivers.csv\",encoding='unicode_escape')\n",
        "print(data_set)"
      ]
    },
    {
      "cell_type": "code",
      "source": [
        "pip install category_encoders"
      ],
      "metadata": {
        "colab": {
          "base_uri": "https://localhost:8080/"
        },
        "id": "cKE88CcBDVrQ",
        "outputId": "be0782f0-f489-4b46-a63c-68adc21ec7d3"
      },
      "execution_count": null,
      "outputs": [
        {
          "output_type": "stream",
          "name": "stdout",
          "text": [
            "Looking in indexes: https://pypi.org/simple, https://us-python.pkg.dev/colab-wheels/public/simple/\n",
            "Collecting category_encoders\n",
            "  Downloading category_encoders-2.5.0-py2.py3-none-any.whl (69 kB)\n",
            "\u001b[K     |████████████████████████████████| 69 kB 1.8 MB/s \n",
            "\u001b[?25hRequirement already satisfied: statsmodels>=0.9.0 in /usr/local/lib/python3.7/dist-packages (from category_encoders) (0.12.2)\n",
            "Requirement already satisfied: scipy>=1.0.0 in /usr/local/lib/python3.7/dist-packages (from category_encoders) (1.7.3)\n",
            "Requirement already satisfied: scikit-learn>=0.20.0 in /usr/local/lib/python3.7/dist-packages (from category_encoders) (1.0.2)\n",
            "Requirement already satisfied: patsy>=0.5.1 in /usr/local/lib/python3.7/dist-packages (from category_encoders) (0.5.2)\n",
            "Requirement already satisfied: pandas>=1.0.5 in /usr/local/lib/python3.7/dist-packages (from category_encoders) (1.3.5)\n",
            "Requirement already satisfied: numpy>=1.14.0 in /usr/local/lib/python3.7/dist-packages (from category_encoders) (1.21.6)\n",
            "Requirement already satisfied: pytz>=2017.3 in /usr/local/lib/python3.7/dist-packages (from pandas>=1.0.5->category_encoders) (2022.2.1)\n",
            "Requirement already satisfied: python-dateutil>=2.7.3 in /usr/local/lib/python3.7/dist-packages (from pandas>=1.0.5->category_encoders) (2.8.2)\n",
            "Requirement already satisfied: six in /usr/local/lib/python3.7/dist-packages (from patsy>=0.5.1->category_encoders) (1.15.0)\n",
            "Requirement already satisfied: threadpoolctl>=2.0.0 in /usr/local/lib/python3.7/dist-packages (from scikit-learn>=0.20.0->category_encoders) (3.1.0)\n",
            "Requirement already satisfied: joblib>=0.11 in /usr/local/lib/python3.7/dist-packages (from scikit-learn>=0.20.0->category_encoders) (1.1.0)\n",
            "Installing collected packages: category-encoders\n",
            "Successfully installed category-encoders-2.5.0\n"
          ]
        }
      ]
    },
    {
      "cell_type": "code",
      "source": [
        "from sklearn.model_selection import train_test_split\n",
        "X_train, X_test, y_train, y_test= train_test_split(X,y, test_size= 0.25,random_state=0)\n",
        "\n",
        "X_train"
      ],
      "metadata": {
        "id": "1aWod4fsy_gf"
      },
      "execution_count": null,
      "outputs": []
    },
    {
      "cell_type": "code",
      "source": [
        "from sklearn.preprocessing import StandardScaler\n",
        "st_X= StandardScaler()\n",
        "X_train = st_X.fit_transform(X_train)\n",
        "X_test= st_X.transform(X_test)\n",
        "X_test"
      ],
      "metadata": {
        "id": "nlf2Eu2FzDDZ"
      },
      "execution_count": null,
      "outputs": []
    },
    {
      "cell_type": "code",
      "source": [
        "for coln in df:\n",
        "  df[coln]=df[coln].astype(category).cat.codes\n",
        "y_pred =classifier.predict(X_test)"
      ],
      "metadata": {
        "id": "_PohmL1H8mKK"
      },
      "execution_count": null,
      "outputs": []
    },
    {
      "cell_type": "code",
      "source": [
        "from sklearn.tree import DecisionTreeClassifier\n",
        "clf = DecisionTreeClassifier(criterion='entropy',random_state=0)\n",
        "clf.fit(X_train,y_train)"
      ],
      "metadata": {
        "id": "EPfVp2nQzJJS"
      },
      "execution_count": null,
      "outputs": []
    },
    {
      "cell_type": "code",
      "source": [
        "from sklearn.datasets\n",
        "from sklearn import tree\n",
        "clf = tree.DecisionTreeClassifier(random_state=0)\n",
        "clf = clf.fit(X_train, X_test)\n",
        "tree.plot_tree(clf)"
      ],
      "metadata": {
        "id": "U8PLSWwAzN95"
      },
      "execution_count": null,
      "outputs": []
    }
  ]
}